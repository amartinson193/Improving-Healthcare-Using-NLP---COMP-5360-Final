{
 "cells": [
  {
   "cell_type": "markdown",
   "metadata": {},
   "source": [
    "# Basic Info\n",
    "#### (The project title, your names, e-mail addresses, UIDs.)\n",
    "\n",
    "* Project title: Improving Healthcare using NLP\n",
    "\n",
    "**Team Member 1**\n",
    "* Name: Mike Sanders\n",
    "* email: cellsrule@gmail.com u0071565@utah.edu \n",
    "* UID: u0071565\n",
    "\n",
    "**Team Member 2**\n",
    "* Name: Andreas Martinson\n",
    "* email: andreas.martinson@utah.edu\n",
    "* UID: u1291396"
   ]
  },
  {
   "cell_type": "markdown",
   "metadata": {},
   "source": [
    "# Background and Motivation. \n",
    "#### (Discuss your motivations and reasons for choosing this project, especially any background or research interests that may have influenced your decision)\n",
    "\n",
    "We want to work on an NLP project related to healthcare since both of us are passionate about making improvements in healthcare and we also wanted to work on an ambitious project that we could add to our portfolios once we are done. \n",
    "\n",
    "One of us has taken an NLP class in the past and gotten some exposure to the processes required, but this will require learning new processes in order to complete this project. \n",
    "\n",
    "We decided to use the MIMIC III database, which is made available through the MIT Laboratory for Computational Physiology and is hosted on Physionet. This is a link to their website: https://mimic.physionet.org/about/mimic/. Here is an excerpt from the acknowledgements section of their website that describes the dataset we are using, \n",
    "\n",
    "\"MIMIC-III (Medical Information Mart for Intensive Care III) is a large, freely-available database comprising deidentified health-related data associated with over forty thousand patients who stayed in critical care units of the Beth Israel Deaconess Medical Center between 2001 and 2012.\n",
    "\n",
    "The database includes information such as demographics, vital sign measurements made at the bedside (~1 data point per hour), laboratory test results, procedures, medications, caregiver notes, imaging reports, and mortality (both in and out of hospital).\"\n",
    "\n",
    "This dataset has a lot of clinical note records considering there are 40,000 patients. Our goal is to use those clinical notes to predict the discharge diagnosis ICD-9 code. This is a robust data source that will make the type of analysis that we want to complete possible. \n",
    "\n",
    "The inspiration was to provide the end product first to a physician who can accept or reject the suggested diagnosis and procedure codes. These would be the ICD-9 and CPT codes respectively. The patient will then receive the diagnosis/procedures and notes soon after meeting with the physician to verify if the information seems accurate. Then, this data paired with patient and physician feedback will be sent to hospital coders and the hope is that this process will improve the accuracy and billing for various kinds of patient encounters. For the patient, this will hopefully help to reduce upcoding. For the physician, this will help them capture all possible conditions. \n",
    "\n",
    "This is increasingly important in value based care, since poor documentation can lead to decreased revenue and data where there seems to be a gap in care. One example is for HCC (Hierarchical Condition Category) documentation since CMS pays for patient care based on a risk adjustment factor (often called a RAF score), which the HCC's heavily influence. We can map our ICD-9 codes back to a dataset from CMS from 2014 that maps ICD-9 codes to HCC's. Here is the dataset we will be using in our project: https://www.cms.gov/Medicare/Health-Plans/MedicareAdvtgSpecRateStats/Risk-Adjustors-Items/Risk2014.\n",
    "\n",
    "In the future, an application of the end result could be extended to encourage patients to write notes about their visit and also verify CPT and ICD descriptions about what occurred during their visit. We would then use NLP on these notes in order to improve accuracy of the diagnosis for coding and billing. The hope is that this would in turn help to reduce fraud, waste, and abuse in the healthcare system and encourage involvement from both parties. The hospital would be incentivized due to increased revenue from proper documentation and the patient would be incentivized to help prevent being billed for either procedures that never occurred or inaccurate diagnosis. The hospital coder would then be the final determinant in the billing and coding process.\n"
   ]
  },
  {
   "cell_type": "markdown",
   "metadata": {},
   "source": [
    "# Project Objectives. \n",
    "#### (Provide the primary questions you are trying to answer in your project. What would you like to learn and accomplish? List the benefits)\n",
    "\n",
    "**Primary Questions**\n",
    "\n",
    "Here are a few questions that we would like to answer:\n",
    "\n",
    "* Can diagnosis or procedure codes be predicted from doctor's/patient notes?\n",
    "* How well does our model perform compared to a benchmark?\n",
    "* Is it easier to predict procedure or diagnosis codes?\n",
    "\n",
    "**What would you like to learn and accomplish?**\n",
    "\n",
    "* How the healthcare documentation and coding process works\n",
    "    * Specifically, a better understanding of ICD and CPT codes\n",
    "* Potential impact of NLP for physicians, patients, coders, and hospital\n",
    "* Natural Language Processing\n",
    "* How to effectively use the nltk and Spacy libraries"
   ]
  },
  {
   "cell_type": "markdown",
   "metadata": {},
   "source": [
    "# Data. \n",
    "#### From where and how are you collecting your data? If appropriate, provide a link to your data sources.\n",
    "\n",
    "* MIMIC III Database with Clinical Notes\n",
    "    * https://mimic.physionet.org/about/mimic/\n",
    "* ICD-9 to HCC mapping\n",
    "    * https://www.cms.gov/Medicare/Health-Plans/MedicareAdvtgSpecRateStats/Risk-Adjustors-Items/Risk2014 \n",
    "    "
   ]
  },
  {
   "cell_type": "markdown",
   "metadata": {},
   "source": [
    "# Ethical considerations. \n",
    "#### Complete a stakeholder analysis for your project.\n",
    "\n",
    "**Who are the different \"personas\" relevant to your project?\n",
    "\n",
    "Physicians, patients, providers (hospital, clinics, SNFs, etc...), payers (insurance, government - CMS). Excludes holistic therapy and medications.\n",
    "\n",
    "**What are some incentives that may align or compete among these groups?**\n",
    "\n",
    "In a fee-for-service model, the patient's well-being is not aligned with the provider. This also applies to insurance companies since they can just adjust rates for increased utilization. As a result, healthcare costs have increased by a staggering amount in the past few decades. This increase is not necessarily due to insidious motives from the providers or payers, but rather a result of a system whose incentives are not aligned with the patients.\n",
    "\n",
    "In contrast to a fee-for-service model, a value-based care model's incentives are aligned with the patient since the payers and providers contract together so that they benefit from increased patient wellness. In turn, the patient is aligned with a common goal of wellness with the provider and payer since they also want to reduce their own medical expenses and improve documentation. Granted, some patients are apathetic to their personal wellness and this is one way that patient's incentives might not be completely aligned with the provider and payer.\n",
    "\n",
    "**Is the data you collected biased or unbiased?**\n",
    "\n",
    "The data is biased since there are only patient records from one hospital and so the data might over-represent the demographic of the patients that live near the hospital. Another reason it is biased is because the hospital does not provide all services available in the healthcare system. This can limit the model to only predict the procedures and diagnosis specific to the hospital. The most bias in our data will most likely be from the inherent bias in the physician notes. \n",
    "\n",
    "**Are there certain groups that would be disproportionally affected by analysis or by the data?**\n",
    "\n",
    "Healthy people won't get as much benefit from this model since they will be under-represented in our dataset. Also, anyone not represented or under-represented in the demographic that goes to the hospital will be affected.\n"
   ]
  },
  {
   "cell_type": "markdown",
   "metadata": {},
   "source": [
    "# Data Processing. \n",
    "#### Do you expect to do substantial data cleanup or data extraction? What quantities do you plan to derive from your data? How will data processing be implemented?\n"
   ]
  },
  {
   "cell_type": "markdown",
   "metadata": {},
   "source": [
    "# Exploratory Analysis. \n",
    "#### Which methods and visualizations are you planning to use to look at your dataset?\n"
   ]
  },
  {
   "cell_type": "markdown",
   "metadata": {},
   "source": [
    "# Analysis Methodology. \n",
    "#### How are you planning to analyze your data?\n"
   ]
  },
  {
   "cell_type": "markdown",
   "metadata": {},
   "source": [
    "# Project Schedule. \n",
    "#### Make sure that you plan your work so that you can avoid a big rush right before the final project deadline, and delegate different modules and responsibilities among your team members. Write this in terms of weekly deadlines.\n",
    "\n",
    "Meet on:\n",
    "* Wednesday - 7:30pm \n",
    "* Saturdays - 10am\n",
    "\n",
    "**March 14-20**\n",
    "\n",
    "Mike\n",
    "* Fill out Exploratory Analysis and Analysis Methodology\n",
    "* Look into Spacy and nltk and Datacamp slides \n",
    "Andreas\n",
    "* Get access to the data\n",
    "* Setup Github\n",
    "* Email out Project Proposal\n",
    "* Learn NLP again\n",
    "\n",
    "March 28th - Project Proposal\n",
    "April 12th - First Milestone\n",
    "April 15th - Capstone Presentation\n",
    "April 26th - Final Submission"
   ]
  }
 ],
 "metadata": {
  "kernelspec": {
   "display_name": "Python 3",
   "language": "python",
   "name": "python3"
  },
  "language_info": {
   "codemirror_mode": {
    "name": "ipython",
    "version": 3
   },
   "file_extension": ".py",
   "mimetype": "text/x-python",
   "name": "python",
   "nbconvert_exporter": "python",
   "pygments_lexer": "ipython3",
   "version": "3.8.6"
  }
 },
 "nbformat": 4,
 "nbformat_minor": 4
}
